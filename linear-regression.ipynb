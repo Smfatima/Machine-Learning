{
 "cells": [
  {
   "cell_type": "markdown",
   "metadata": {
    "papermill": {
     "duration": 0.009207,
     "end_time": "2020-09-22T17:36:48.496333",
     "exception": false,
     "start_time": "2020-09-22T17:36:48.487126",
     "status": "completed"
    },
    "tags": []
   },
   "source": [
    "We are using Linear Regression to predict the housing price.\n"
   ]
  },
  {
   "cell_type": "code",
   "execution_count": 1,
   "metadata": {
    "execution": {
     "iopub.execute_input": "2020-09-22T17:36:48.519282Z",
     "iopub.status.busy": "2020-09-22T17:36:48.518401Z",
     "iopub.status.idle": "2020-09-22T17:36:49.598510Z",
     "shell.execute_reply": "2020-09-22T17:36:49.597750Z"
    },
    "papermill": {
     "duration": 1.094264,
     "end_time": "2020-09-22T17:36:49.598645",
     "exception": false,
     "start_time": "2020-09-22T17:36:48.504381",
     "status": "completed"
    },
    "tags": []
   },
   "outputs": [],
   "source": [
    "#Import libraries\n",
    "import numpy as np\n",
    "import pandas as pd\n",
    "from sklearn.linear_model import LinearRegression\n",
    "from sklearn.model_selection import cross_val_score\n",
    "from sklearn.model_selection import train_test_split"
   ]
  },
  {
   "cell_type": "code",
   "execution_count": 2,
   "metadata": {
    "_cell_guid": "79c7e3d0-c299-4dcb-8224-4455121ee9b0",
    "_uuid": "d629ff2d2480ee46fbb7e2d37f6b5fab8052498a",
    "execution": {
     "iopub.execute_input": "2020-09-22T17:36:49.625109Z",
     "iopub.status.busy": "2020-09-22T17:36:49.624252Z",
     "iopub.status.idle": "2020-09-22T17:36:49.636785Z",
     "shell.execute_reply": "2020-09-22T17:36:49.636003Z"
    },
    "papermill": {
     "duration": 0.029523,
     "end_time": "2020-09-22T17:36:49.636943",
     "exception": false,
     "start_time": "2020-09-22T17:36:49.607420",
     "status": "completed"
    },
    "tags": []
   },
   "outputs": [],
   "source": [
    "#load dataset\n",
    "bos = pd.read_csv('../input/housing/boston.csv')"
   ]
  },
  {
   "cell_type": "code",
   "execution_count": 3,
   "metadata": {
    "execution": {
     "iopub.execute_input": "2020-09-22T17:36:49.672986Z",
     "iopub.status.busy": "2020-09-22T17:36:49.672183Z",
     "iopub.status.idle": "2020-09-22T17:36:49.686391Z",
     "shell.execute_reply": "2020-09-22T17:36:49.685653Z"
    },
    "papermill": {
     "duration": 0.041084,
     "end_time": "2020-09-22T17:36:49.686523",
     "exception": false,
     "start_time": "2020-09-22T17:36:49.645439",
     "status": "completed"
    },
    "tags": []
   },
   "outputs": [
    {
     "data": {
      "text/html": [
       "<div>\n",
       "<style scoped>\n",
       "    .dataframe tbody tr th:only-of-type {\n",
       "        vertical-align: middle;\n",
       "    }\n",
       "\n",
       "    .dataframe tbody tr th {\n",
       "        vertical-align: top;\n",
       "    }\n",
       "\n",
       "    .dataframe thead th {\n",
       "        text-align: right;\n",
       "    }\n",
       "</style>\n",
       "<table border=\"1\" class=\"dataframe\">\n",
       "  <thead>\n",
       "    <tr style=\"text-align: right;\">\n",
       "      <th></th>\n",
       "      <th>CRIM</th>\n",
       "      <th>ZN</th>\n",
       "      <th>INDUS</th>\n",
       "      <th>CHAS</th>\n",
       "      <th>NX</th>\n",
       "      <th>RM</th>\n",
       "      <th>AGE</th>\n",
       "      <th>DIS</th>\n",
       "      <th>RAD</th>\n",
       "      <th>TAX</th>\n",
       "      <th>PTRATIO</th>\n",
       "      <th>B</th>\n",
       "      <th>LSTAT</th>\n",
       "      <th>MEDV</th>\n",
       "    </tr>\n",
       "  </thead>\n",
       "  <tbody>\n",
       "    <tr>\n",
       "      <th>0</th>\n",
       "      <td>0.00632</td>\n",
       "      <td>18.0</td>\n",
       "      <td>2.31</td>\n",
       "      <td>0</td>\n",
       "      <td>0.538</td>\n",
       "      <td>6.575</td>\n",
       "      <td>65.2</td>\n",
       "      <td>4.0900</td>\n",
       "      <td>1</td>\n",
       "      <td>296.0</td>\n",
       "      <td>15.3</td>\n",
       "      <td>396.90</td>\n",
       "      <td>4.98</td>\n",
       "      <td>24.0</td>\n",
       "    </tr>\n",
       "    <tr>\n",
       "      <th>1</th>\n",
       "      <td>0.02731</td>\n",
       "      <td>0.0</td>\n",
       "      <td>7.07</td>\n",
       "      <td>0</td>\n",
       "      <td>0.469</td>\n",
       "      <td>6.421</td>\n",
       "      <td>78.9</td>\n",
       "      <td>4.9671</td>\n",
       "      <td>2</td>\n",
       "      <td>242.0</td>\n",
       "      <td>17.8</td>\n",
       "      <td>396.90</td>\n",
       "      <td>9.14</td>\n",
       "      <td>21.6</td>\n",
       "    </tr>\n",
       "    <tr>\n",
       "      <th>2</th>\n",
       "      <td>0.02729</td>\n",
       "      <td>0.0</td>\n",
       "      <td>7.07</td>\n",
       "      <td>0</td>\n",
       "      <td>0.469</td>\n",
       "      <td>7.185</td>\n",
       "      <td>61.1</td>\n",
       "      <td>4.9671</td>\n",
       "      <td>2</td>\n",
       "      <td>242.0</td>\n",
       "      <td>17.8</td>\n",
       "      <td>392.83</td>\n",
       "      <td>4.03</td>\n",
       "      <td>34.7</td>\n",
       "    </tr>\n",
       "    <tr>\n",
       "      <th>3</th>\n",
       "      <td>0.03237</td>\n",
       "      <td>0.0</td>\n",
       "      <td>2.18</td>\n",
       "      <td>0</td>\n",
       "      <td>0.458</td>\n",
       "      <td>6.998</td>\n",
       "      <td>45.8</td>\n",
       "      <td>6.0622</td>\n",
       "      <td>3</td>\n",
       "      <td>222.0</td>\n",
       "      <td>18.7</td>\n",
       "      <td>394.63</td>\n",
       "      <td>2.94</td>\n",
       "      <td>33.4</td>\n",
       "    </tr>\n",
       "    <tr>\n",
       "      <th>4</th>\n",
       "      <td>0.06905</td>\n",
       "      <td>0.0</td>\n",
       "      <td>2.18</td>\n",
       "      <td>0</td>\n",
       "      <td>0.458</td>\n",
       "      <td>7.147</td>\n",
       "      <td>54.2</td>\n",
       "      <td>6.0622</td>\n",
       "      <td>3</td>\n",
       "      <td>222.0</td>\n",
       "      <td>18.7</td>\n",
       "      <td>396.90</td>\n",
       "      <td>5.33</td>\n",
       "      <td>36.2</td>\n",
       "    </tr>\n",
       "  </tbody>\n",
       "</table>\n",
       "</div>"
      ],
      "text/plain": [
       "      CRIM    ZN  INDUS  CHAS     NX     RM   AGE     DIS  RAD    TAX  \\\n",
       "0  0.00632  18.0   2.31     0  0.538  6.575  65.2  4.0900    1  296.0   \n",
       "1  0.02731   0.0   7.07     0  0.469  6.421  78.9  4.9671    2  242.0   \n",
       "2  0.02729   0.0   7.07     0  0.469  7.185  61.1  4.9671    2  242.0   \n",
       "3  0.03237   0.0   2.18     0  0.458  6.998  45.8  6.0622    3  222.0   \n",
       "4  0.06905   0.0   2.18     0  0.458  7.147  54.2  6.0622    3  222.0   \n",
       "\n",
       "   PTRATIO       B  LSTAT  MEDV  \n",
       "0     15.3  396.90   4.98  24.0  \n",
       "1     17.8  396.90   9.14  21.6  \n",
       "2     17.8  392.83   4.03  34.7  \n",
       "3     18.7  394.63   2.94  33.4  \n",
       "4     18.7  396.90   5.33  36.2  "
      ]
     },
     "execution_count": 3,
     "metadata": {},
     "output_type": "execute_result"
    }
   ],
   "source": [
    "bos.head(5)"
   ]
  },
  {
   "cell_type": "code",
   "execution_count": 4,
   "metadata": {
    "execution": {
     "iopub.execute_input": "2020-09-22T17:36:49.717710Z",
     "iopub.status.busy": "2020-09-22T17:36:49.716960Z",
     "iopub.status.idle": "2020-09-22T17:36:49.720208Z",
     "shell.execute_reply": "2020-09-22T17:36:49.719592Z"
    },
    "papermill": {
     "duration": 0.024296,
     "end_time": "2020-09-22T17:36:49.720330",
     "exception": false,
     "start_time": "2020-09-22T17:36:49.696034",
     "status": "completed"
    },
    "tags": []
   },
   "outputs": [],
   "source": [
    "#Create features and target arrays\n",
    "X = bos.drop('MEDV', axis=1).values\n",
    "y = bos['MEDV'].values"
   ]
  },
  {
   "cell_type": "code",
   "execution_count": 5,
   "metadata": {
    "execution": {
     "iopub.execute_input": "2020-09-22T17:36:49.746500Z",
     "iopub.status.busy": "2020-09-22T17:36:49.745660Z",
     "iopub.status.idle": "2020-09-22T17:36:49.749153Z",
     "shell.execute_reply": "2020-09-22T17:36:49.748525Z"
    },
    "papermill": {
     "duration": 0.019548,
     "end_time": "2020-09-22T17:36:49.749317",
     "exception": false,
     "start_time": "2020-09-22T17:36:49.729769",
     "status": "completed"
    },
    "tags": []
   },
   "outputs": [],
   "source": [
    "X_train, X_test, y_train, y_test = train_test_split(X, y, random_state = 42, test_size = 0.35)"
   ]
  },
  {
   "cell_type": "code",
   "execution_count": 6,
   "metadata": {
    "execution": {
     "iopub.execute_input": "2020-09-22T17:36:49.774657Z",
     "iopub.status.busy": "2020-09-22T17:36:49.773896Z",
     "iopub.status.idle": "2020-09-22T17:36:49.852425Z",
     "shell.execute_reply": "2020-09-22T17:36:49.851780Z"
    },
    "papermill": {
     "duration": 0.093574,
     "end_time": "2020-09-22T17:36:49.852560",
     "exception": false,
     "start_time": "2020-09-22T17:36:49.758986",
     "status": "completed"
    },
    "tags": []
   },
   "outputs": [
    {
     "data": {
      "text/plain": [
       "LinearRegression()"
      ]
     },
     "execution_count": 6,
     "metadata": {},
     "output_type": "execute_result"
    }
   ],
   "source": [
    "#Fit a regression model\n",
    "reg = LinearRegression()\n",
    "reg.fit(X_train, y_train)"
   ]
  },
  {
   "cell_type": "code",
   "execution_count": 7,
   "metadata": {
    "execution": {
     "iopub.execute_input": "2020-09-22T17:36:49.884926Z",
     "iopub.status.busy": "2020-09-22T17:36:49.883881Z",
     "iopub.status.idle": "2020-09-22T17:36:49.888671Z",
     "shell.execute_reply": "2020-09-22T17:36:49.887714Z"
    },
    "papermill": {
     "duration": 0.025909,
     "end_time": "2020-09-22T17:36:49.888812",
     "exception": false,
     "start_time": "2020-09-22T17:36:49.862903",
     "status": "completed"
    },
    "tags": []
   },
   "outputs": [
    {
     "name": "stdout",
     "output_type": "stream",
     "text": [
      "[28.60952259 36.85626762 15.38876853 25.64452724 18.72406291 23.02649513\n",
      " 17.22868975 14.03971784 22.90670254 20.69041947 24.73520492 17.96890471\n",
      " -6.49207567 21.70616258 19.16447129 26.1151788  20.0098639   5.8259821\n",
      " 40.35956964 17.44880445 27.74945705 30.41791488 10.81978361 24.07657703\n",
      " 18.05289889 16.00449195 23.29369825 14.31869068 22.28081994 19.47481812\n",
      " 22.2608951  25.17207242 25.15099492 18.56351246 16.54736404 17.25387612\n",
      " 30.61612043 20.23499258 24.01263759 25.08156765 14.14968964 31.88091413\n",
      " 42.5288082  17.71599873 27.10637661 17.21118733 13.74907678 26.27942679\n",
      " 20.22707024 30.02474054 20.8262701  34.00026004 15.45627088 26.17520657\n",
      " 39.17414311 22.97772259 18.82705058 33.34969341 24.84578337 12.58167816\n",
      " 22.31016961 30.62312131 31.8940865  16.70066786 20.68101451 16.58194638\n",
      " 20.25494769 26.31564386 31.40797733 11.90968135 20.52682355 27.41601329\n",
      " 10.93225885 16.8285132  24.03159781  5.47823416 21.54090421 41.32155697\n",
      " 18.14943156  9.58019555 21.26786473 13.06651503 21.64852133  9.56090695\n",
      " 22.99273348 31.98665993 18.9356086  25.64152367 29.58576845 19.99306532\n",
      " 25.74382984  5.67705823 20.07688001 14.90142464 14.59602607 20.73809417\n",
      " 24.8718101  -0.16762145 13.59633158 15.61038064 22.19870657 24.668928\n",
      " 10.86199131 19.79201114 23.72280779 12.1067992  18.60377191 25.65005259\n",
      " 20.92935128 24.56735812  7.49421717 18.90049888 21.79747736 27.42019264\n",
      " 31.9374876  15.1956121  34.10336474 12.90512987 21.36784247 28.62879716\n",
      " 15.49953753 24.82843194  3.58443463 23.94102529 25.96069147 23.15742995\n",
      " 25.28569085 33.14041301 20.52641934 38.03578397 13.77406722 25.44345245\n",
      " 17.60526467 20.5807976   9.67831309 21.12330782 22.46160325 32.11085004\n",
      " 31.63327536 15.29367103 16.78335228 29.01540798 25.21524847 16.8323689\n",
      "  6.41236078 26.55443265 23.16656888 17.25485072 13.22851603 39.44511109\n",
      " 16.55801326 18.16213243 25.06793502 23.7756295  22.28334747 21.54064578\n",
      " 16.91601389 23.20622632 28.73810797  6.66201679 24.15733955 17.10398471\n",
      " 21.38139012 25.12344049 27.8273673  20.7226581  40.26458359 18.921246\n",
      " 15.12694655 18.4075485  17.96395841 22.64578604 23.48389288 33.31908984\n",
      " 22.75430654 20.50180266 25.40646093 31.26097681]\n"
     ]
    }
   ],
   "source": [
    "y_pred = reg.predict(X_test)\n",
    "print(y_pred)"
   ]
  },
  {
   "cell_type": "code",
   "execution_count": 8,
   "metadata": {
    "execution": {
     "iopub.execute_input": "2020-09-22T17:36:49.919405Z",
     "iopub.status.busy": "2020-09-22T17:36:49.918294Z",
     "iopub.status.idle": "2020-09-22T17:36:49.923489Z",
     "shell.execute_reply": "2020-09-22T17:36:49.922836Z"
    },
    "papermill": {
     "duration": 0.023893,
     "end_time": "2020-09-22T17:36:49.923629",
     "exception": false,
     "start_time": "2020-09-22T17:36:49.899736",
     "status": "completed"
    },
    "tags": []
   },
   "outputs": [
    {
     "data": {
      "text/plain": [
       "0.7204251482114865"
      ]
     },
     "execution_count": 8,
     "metadata": {},
     "output_type": "execute_result"
    }
   ],
   "source": [
    "reg.score(X_test, y_test)"
   ]
  }
 ],
 "metadata": {
  "kernelspec": {
   "display_name": "Python 3",
   "language": "python",
   "name": "python3"
  },
  "language_info": {
   "codemirror_mode": {
    "name": "ipython",
    "version": 3
   },
   "file_extension": ".py",
   "mimetype": "text/x-python",
   "name": "python",
   "nbconvert_exporter": "python",
   "pygments_lexer": "ipython3",
   "version": "3.7.6"
  },
  "papermill": {
   "duration": 6.146709,
   "end_time": "2020-09-22T17:36:50.043150",
   "environment_variables": {},
   "exception": null,
   "input_path": "__notebook__.ipynb",
   "output_path": "__notebook__.ipynb",
   "parameters": {},
   "start_time": "2020-09-22T17:36:43.896441",
   "version": "2.1.0"
  }
 },
 "nbformat": 4,
 "nbformat_minor": 4
}
