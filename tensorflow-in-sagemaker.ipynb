{
 "cells": [
  {
   "cell_type": "markdown",
   "metadata": {
    "papermill": {
     "duration": 0.02738,
     "end_time": "2020-10-26T14:20:04.815487",
     "exception": false,
     "start_time": "2020-10-26T14:20:04.788107",
     "status": "completed"
    },
    "tags": []
   },
   "source": [
    "# Custom Training with TensorFlow in Sagemaker"
   ]
  },
  {
   "cell_type": "markdown",
   "metadata": {
    "papermill": {
     "duration": 0.026473,
     "end_time": "2020-10-26T14:20:04.866525",
     "exception": false,
     "start_time": "2020-10-26T14:20:04.840052",
     "status": "completed"
    },
    "tags": []
   },
   "source": [
    "We will be using Tensorflow in Sagemaker to build custom training model, I learn this project from \"Guided project\" in Coursera. \n",
    "\n",
    "First create an AWS account and go to Sagemaker, create a notebook instance and upload this notebook."
   ]
  },
  {
   "cell_type": "code",
   "execution_count": 1,
   "metadata": {
    "execution": {
     "iopub.execute_input": "2020-10-26T14:20:04.921070Z",
     "iopub.status.busy": "2020-10-26T14:20:04.920348Z",
     "iopub.status.idle": "2020-10-26T14:20:18.209744Z",
     "shell.execute_reply": "2020-10-26T14:20:18.209028Z"
    },
    "papermill": {
     "duration": 13.319243,
     "end_time": "2020-10-26T14:20:18.210117",
     "exception": false,
     "start_time": "2020-10-26T14:20:04.890874",
     "status": "completed"
    },
    "tags": []
   },
   "outputs": [
    {
     "name": "stdout",
     "output_type": "stream",
     "text": [
      "Collecting sagemaker==1.0.0\r\n",
      "  Downloading sagemaker-1.0.0.tar.gz (120 kB)\r\n",
      "\u001b[K     |████████████████████████████████| 120 kB 3.0 MB/s \r\n",
      "\u001b[?25hRequirement already satisfied: boto3>=1.4.8 in /opt/conda/lib/python3.7/site-packages (from sagemaker==1.0.0) (1.14.56)\r\n",
      "Requirement already satisfied: numpy>=1.9.0 in /opt/conda/lib/python3.7/site-packages (from sagemaker==1.0.0) (1.18.5)\r\n",
      "Requirement already satisfied: protobuf>=3.1 in /opt/conda/lib/python3.7/site-packages (from sagemaker==1.0.0) (3.13.0)\r\n",
      "Requirement already satisfied: jmespath<1.0.0,>=0.7.1 in /opt/conda/lib/python3.7/site-packages (from boto3>=1.4.8->sagemaker==1.0.0) (0.10.0)\r\n",
      "Requirement already satisfied: botocore<1.18.0,>=1.17.56 in /opt/conda/lib/python3.7/site-packages (from boto3>=1.4.8->sagemaker==1.0.0) (1.17.56)\r\n",
      "Requirement already satisfied: s3transfer<0.4.0,>=0.3.0 in /opt/conda/lib/python3.7/site-packages (from boto3>=1.4.8->sagemaker==1.0.0) (0.3.3)\r\n",
      "Requirement already satisfied: six>=1.9 in /opt/conda/lib/python3.7/site-packages (from protobuf>=3.1->sagemaker==1.0.0) (1.14.0)\r\n",
      "Requirement already satisfied: setuptools in /opt/conda/lib/python3.7/site-packages (from protobuf>=3.1->sagemaker==1.0.0) (46.1.3.post20200325)\r\n",
      "Requirement already satisfied: python-dateutil<3.0.0,>=2.1 in /opt/conda/lib/python3.7/site-packages (from botocore<1.18.0,>=1.17.56->boto3>=1.4.8->sagemaker==1.0.0) (2.8.1)\r\n",
      "Requirement already satisfied: urllib3<1.26,>=1.20; python_version != \"3.4\" in /opt/conda/lib/python3.7/site-packages (from botocore<1.18.0,>=1.17.56->boto3>=1.4.8->sagemaker==1.0.0) (1.24.3)\r\n",
      "Requirement already satisfied: docutils<0.16,>=0.10 in /opt/conda/lib/python3.7/site-packages (from botocore<1.18.0,>=1.17.56->boto3>=1.4.8->sagemaker==1.0.0) (0.15.2)\r\n",
      "Building wheels for collected packages: sagemaker\r\n",
      "  Building wheel for sagemaker (setup.py) ... \u001b[?25l-\b \b\\\b \b|\b \bdone\r\n",
      "\u001b[?25h  Created wheel for sagemaker: filename=sagemaker-1.0.0-py2.py3-none-any.whl size=107061 sha256=c0329abc06bf367c442e9d64570436e9e6002d44deb04951cdfcd9368ca0da96\r\n",
      "  Stored in directory: /root/.cache/pip/wheels/ea/36/5e/8f37bfa88bcebb122be905a71515c1a46b0683dff24858a111\r\n",
      "Successfully built sagemaker\r\n",
      "Installing collected packages: sagemaker\r\n",
      "Successfully installed sagemaker-1.0.0\r\n",
      "\u001b[33mWARNING: You are using pip version 20.2.2; however, version 20.2.4 is available.\r\n",
      "You should consider upgrading via the '/opt/conda/bin/python -m pip install --upgrade pip' command.\u001b[0m\r\n",
      "Note: you may need to restart the kernel to use updated packages.\n"
     ]
    }
   ],
   "source": [
    "pip install sagemaker==1.0.0"
   ]
  },
  {
   "cell_type": "code",
   "execution_count": 2,
   "metadata": {
    "execution": {
     "iopub.execute_input": "2020-10-26T14:20:18.298534Z",
     "iopub.status.busy": "2020-10-26T14:20:18.296872Z",
     "iopub.status.idle": "2020-10-26T14:20:24.710347Z",
     "shell.execute_reply": "2020-10-26T14:20:24.709631Z"
    },
    "papermill": {
     "duration": 6.466457,
     "end_time": "2020-10-26T14:20:24.710493",
     "exception": false,
     "start_time": "2020-10-26T14:20:18.244036",
     "status": "completed"
    },
    "tags": []
   },
   "outputs": [
    {
     "name": "stdout",
     "output_type": "stream",
     "text": [
      "Libraries imported\n"
     ]
    }
   ],
   "source": [
    "%matplotlib inline\n",
    "\n",
    "import os\n",
    "import tarfile\n",
    "import urllib\n",
    "import shutil\n",
    "import json\n",
    "import random\n",
    "import numpy as np\n",
    "import tensorflow as tf\n",
    "import sagemaker\n",
    "\n",
    "from PIL import Image\n",
    "from matplotlib import pyplot as plt\n",
    "\n",
    "urls = ['http://www.robots.ox.ac.uk/~vgg/data/pets/data/images.tar.gz',\n",
    "        'http://www.robots.ox.ac.uk/~vgg/data/pets/data/annotations.tar.gz']\n",
    "\n",
    "print('Libraries imported')"
   ]
  },
  {
   "cell_type": "code",
   "execution_count": 3,
   "metadata": {
    "execution": {
     "iopub.execute_input": "2020-10-26T14:20:24.792188Z",
     "iopub.status.busy": "2020-10-26T14:20:24.790754Z",
     "iopub.status.idle": "2020-10-26T14:20:24.794949Z",
     "shell.execute_reply": "2020-10-26T14:20:24.794312Z"
    },
    "papermill": {
     "duration": 0.052196,
     "end_time": "2020-10-26T14:20:24.795086",
     "exception": false,
     "start_time": "2020-10-26T14:20:24.742890",
     "status": "completed"
    },
    "tags": []
   },
   "outputs": [],
   "source": [
    "def download_and_extract(data_dir, download_dir):\n",
    "    for url in urls:\n",
    "        target_file = url.split('/')[-1]\n",
    "        if target_file not in os.listdir(download_dir):\n",
    "            print('Downloading', url)\n",
    "            urllib.request.urlretrieve(url, os.path.join(download_dir, target_file))\n",
    "            tf = tarfile.open(url.split('/')[-1])\n",
    "            tf.extractall(data_dir)\n",
    "        else:\n",
    "            print('Already downloaded', url)\n",
    "\n",
    "def get_annotations(file_path, annotations={}):\n",
    "    \n",
    "    with open(file_path, 'r') as f:\n",
    "        rows = f.read().splitlines()\n",
    "\n",
    "    for i, row in enumerate(rows):\n",
    "        image_name, _, _, _ = row.split(' ')\n",
    "        class_name = image_name.split('_')[:-1]\n",
    "        class_name = '_'.join(class_name)\n",
    "        image_name = image_name + '.jpg'\n",
    "        \n",
    "        annotations[image_name] = 'cat' if class_name[0] != class_name[0].lower() else 'dog'\n",
    "    \n",
    "    return annotations"
   ]
  },
  {
   "cell_type": "code",
   "execution_count": 4,
   "metadata": {
    "execution": {
     "iopub.execute_input": "2020-10-26T14:20:24.870372Z",
     "iopub.status.busy": "2020-10-26T14:20:24.869514Z",
     "iopub.status.idle": "2020-10-26T14:21:04.193914Z",
     "shell.execute_reply": "2020-10-26T14:21:04.193263Z"
    },
    "papermill": {
     "duration": 39.36633,
     "end_time": "2020-10-26T14:21:04.194058",
     "exception": false,
     "start_time": "2020-10-26T14:20:24.827728",
     "status": "completed"
    },
    "tags": []
   },
   "outputs": [
    {
     "name": "stdout",
     "output_type": "stream",
     "text": [
      "Downloading http://www.robots.ox.ac.uk/~vgg/data/pets/data/images.tar.gz\n",
      "Downloading http://www.robots.ox.ac.uk/~vgg/data/pets/data/annotations.tar.gz\n"
     ]
    }
   ],
   "source": [
    "if not os.path.isdir('data'):\n",
    "    os.mkdir('data')\n",
    "\n",
    "download_and_extract('data', '.')"
   ]
  },
  {
   "cell_type": "markdown",
   "metadata": {
    "papermill": {
     "duration": 0.034428,
     "end_time": "2020-10-26T14:21:04.260967",
     "exception": false,
     "start_time": "2020-10-26T14:21:04.226539",
     "status": "completed"
    },
    "tags": []
   },
   "source": [
    "# Dataset for Training"
   ]
  },
  {
   "cell_type": "code",
   "execution_count": 5,
   "metadata": {
    "execution": {
     "iopub.execute_input": "2020-10-26T14:21:04.334054Z",
     "iopub.status.busy": "2020-10-26T14:21:04.333020Z",
     "iopub.status.idle": "2020-10-26T14:21:04.354159Z",
     "shell.execute_reply": "2020-10-26T14:21:04.353532Z"
    },
    "papermill": {
     "duration": 0.05914,
     "end_time": "2020-10-26T14:21:04.354302",
     "exception": false,
     "start_time": "2020-10-26T14:21:04.295162",
     "status": "completed"
    },
    "tags": []
   },
   "outputs": [
    {
     "name": "stdout",
     "output_type": "stream",
     "text": [
      "Total examples 7349\n"
     ]
    }
   ],
   "source": [
    "annotations = get_annotations('data/annotations/trainval.txt')\n",
    "annotations = get_annotations('data/annotations/test.txt', annotations)\n",
    "\n",
    "total_count = len(annotations.keys())\n",
    "print('Total examples', total_count)"
   ]
  },
  {
   "cell_type": "code",
   "execution_count": 6,
   "metadata": {
    "execution": {
     "iopub.execute_input": "2020-10-26T14:21:04.433429Z",
     "iopub.status.busy": "2020-10-26T14:21:04.432502Z",
     "iopub.status.idle": "2020-10-26T14:21:04.437611Z",
     "shell.execute_reply": "2020-10-26T14:21:04.436975Z"
    },
    "papermill": {
     "duration": 0.048237,
     "end_time": "2020-10-26T14:21:04.437757",
     "exception": false,
     "start_time": "2020-10-26T14:21:04.389520",
     "status": "completed"
    },
    "tags": []
   },
   "outputs": [
    {
     "data": {
      "text/plain": [
       "('Abyssinian_100.jpg', 'cat')"
      ]
     },
     "execution_count": 6,
     "metadata": {},
     "output_type": "execute_result"
    }
   ],
   "source": [
    "next(iter(annotations.items()))"
   ]
  },
  {
   "cell_type": "code",
   "execution_count": 7,
   "metadata": {
    "execution": {
     "iopub.execute_input": "2020-10-26T14:21:04.520870Z",
     "iopub.status.busy": "2020-10-26T14:21:04.519753Z",
     "iopub.status.idle": "2020-10-26T14:21:04.525422Z",
     "shell.execute_reply": "2020-10-26T14:21:04.524635Z"
    },
    "papermill": {
     "duration": 0.052611,
     "end_time": "2020-10-26T14:21:04.525549",
     "exception": false,
     "start_time": "2020-10-26T14:21:04.472938",
     "status": "completed"
    },
    "tags": []
   },
   "outputs": [],
   "source": [
    "classes = ['cat', 'dog']\n",
    "sets = ['train', 'validation']\n",
    "root_dir = 'custom_data'\n",
    "\n",
    "if not os.path.isdir(root_dir):\n",
    "    os.mkdir(root_dir)\n",
    "    \n",
    "for set_name in sets:\n",
    "    if not os.path.isdir(os.path.join(root_dir, set_name)):\n",
    "        os.mkdir(os.path.join(root_dir, set_name))\n",
    "    for class_name in classes:\n",
    "        folder = os.path.join(root_dir, set_name, class_name)\n",
    "        if not os.path.isdir(folder):\n",
    "            os.mkdir(folder)"
   ]
  },
  {
   "cell_type": "markdown",
   "metadata": {
    "papermill": {
     "duration": 0.032502,
     "end_time": "2020-10-26T14:21:04.592001",
     "exception": false,
     "start_time": "2020-10-26T14:21:04.559499",
     "status": "completed"
    },
    "tags": []
   },
   "source": [
    "Copy the files to correct set/ class folders"
   ]
  },
  {
   "cell_type": "code",
   "execution_count": 8,
   "metadata": {
    "execution": {
     "iopub.execute_input": "2020-10-26T14:21:04.667986Z",
     "iopub.status.busy": "2020-10-26T14:21:04.666716Z",
     "iopub.status.idle": "2020-10-26T14:21:06.825720Z",
     "shell.execute_reply": "2020-10-26T14:21:06.825015Z"
    },
    "papermill": {
     "duration": 2.199784,
     "end_time": "2020-10-26T14:21:06.825887",
     "exception": false,
     "start_time": "2020-10-26T14:21:04.626103",
     "status": "completed"
    },
    "tags": []
   },
   "outputs": [],
   "source": [
    "for image, class_name in annotations.items():\n",
    "    target_set = 'validation' if random.randint(0, 99) < 20 else 'train'\n",
    "    target_path = os.path.join(root_dir, target_set, class_name, image)\n",
    "    shutil.copy(os.path.join('data/images/', image), target_path)"
   ]
  },
  {
   "cell_type": "code",
   "execution_count": 9,
   "metadata": {
    "execution": {
     "iopub.execute_input": "2020-10-26T14:21:06.905874Z",
     "iopub.status.busy": "2020-10-26T14:21:06.904756Z",
     "iopub.status.idle": "2020-10-26T14:21:06.917091Z",
     "shell.execute_reply": "2020-10-26T14:21:06.916014Z"
    },
    "papermill": {
     "duration": 0.05697,
     "end_time": "2020-10-26T14:21:06.917264",
     "exception": false,
     "start_time": "2020-10-26T14:21:06.860294",
     "status": "completed"
    },
    "tags": []
   },
   "outputs": [
    {
     "name": "stdout",
     "output_type": "stream",
     "text": [
      "custom_data/train/cat has 1911 images\n",
      "custom_data/train/dog has 3942 images\n",
      "custom_data/validation/cat has 460 images\n",
      "custom_data/validation/dog has 1036 images\n",
      "{'train': 5853, 'validation': 1496}\n"
     ]
    }
   ],
   "source": [
    "sets_counts = {\n",
    "    'train': 0,\n",
    "    'validation': 0\n",
    "}\n",
    "\n",
    "for set_name in sets:\n",
    "    for class_name in classes:\n",
    "        path = os.path.join(root_dir, set_name, class_name)\n",
    "        count = len(os.listdir(path))\n",
    "        print(path, 'has', count, 'images')\n",
    "        sets_counts[set_name] += count\n",
    "\n",
    "print(sets_counts)"
   ]
  },
  {
   "cell_type": "markdown",
   "metadata": {
    "papermill": {
     "duration": 0.049384,
     "end_time": "2020-10-26T14:21:07.004740",
     "exception": false,
     "start_time": "2020-10-26T14:21:06.955356",
     "status": "completed"
    },
    "tags": []
   },
   "source": [
    "# Training Script - Create Model"
   ]
  },
  {
   "cell_type": "code",
   "execution_count": 10,
   "metadata": {
    "execution": {
     "iopub.execute_input": "2020-10-26T14:21:07.090241Z",
     "iopub.status.busy": "2020-10-26T14:21:07.088864Z",
     "iopub.status.idle": "2020-10-26T14:21:07.094987Z",
     "shell.execute_reply": "2020-10-26T14:21:07.094184Z"
    },
    "papermill": {
     "duration": 0.051885,
     "end_time": "2020-10-26T14:21:07.095156",
     "exception": false,
     "start_time": "2020-10-26T14:21:07.043271",
     "status": "completed"
    },
    "tags": []
   },
   "outputs": [
    {
     "name": "stdout",
     "output_type": "stream",
     "text": [
      "Writing train.py\n"
     ]
    }
   ],
   "source": [
    "%%writefile train.py\n",
    "\n",
    "import tensorflow as tf\n",
    "import argparse\n",
    "import os\n",
    "import json\n",
    "\n",
    "def create_model():\n",
    "    model = tf.keras.models.Sequential([\n",
    "        tf.keras.applications.mobilenet_v2.MobileNetV2(include_top=False, weights='imagenet',\n",
    "                                                       pooling='avg', input_shape=(128, 128, 3)),\n",
    "        tf.keras.layers.Dropout(0.5),\n",
    "        tf.keras.layers.Dense(1, activation='sigmoid')\n",
    "    ])\n",
    "    \n",
    "    model.layers[0].trainable = False\n",
    "    model.compile(loss='binary_crossentropy', optimizer='adam', metrics=['accuracy'])\n",
    "    return model\n"
   ]
  },
  {
   "cell_type": "markdown",
   "metadata": {
    "papermill": {
     "duration": 0.042139,
     "end_time": "2020-10-26T14:21:07.181972",
     "exception": false,
     "start_time": "2020-10-26T14:21:07.139833",
     "status": "completed"
    },
    "tags": []
   },
   "source": [
    "# Training Script - Data Generators"
   ]
  },
  {
   "cell_type": "code",
   "execution_count": 11,
   "metadata": {
    "execution": {
     "iopub.execute_input": "2020-10-26T14:21:07.284631Z",
     "iopub.status.busy": "2020-10-26T14:21:07.283515Z",
     "iopub.status.idle": "2020-10-26T14:21:07.289230Z",
     "shell.execute_reply": "2020-10-26T14:21:07.290352Z"
    },
    "papermill": {
     "duration": 0.068462,
     "end_time": "2020-10-26T14:21:07.290592",
     "exception": false,
     "start_time": "2020-10-26T14:21:07.222130",
     "status": "completed"
    },
    "tags": []
   },
   "outputs": [
    {
     "name": "stdout",
     "output_type": "stream",
     "text": [
      "Appending to train.py\n"
     ]
    }
   ],
   "source": [
    "%%writefile -a train.py\n",
    "\n",
    "def create_data_generators(root_dir, batch_size):\n",
    "    train_data_generator = tf.keras.preprocessing.image.ImageDataGenerator(\n",
    "        preprocessing_function=tf.keras.applications.mobilenet_v2.preprocess_input,\n",
    "        horizontal_flip=True,\n",
    "        zoom_range=[0.8, 1.2],\n",
    "        rotation_range=20\n",
    "    ).flow_from_directory(\n",
    "        os.path.join(root_dir, 'train'),\n",
    "        target_size=(128, 128),\n",
    "        batch_size=batch_size,\n",
    "        class_mode='binary'\n",
    "    )\n",
    "    \n",
    "    val_data_generator = tf.keras.preprocessing.image.ImageDataGenerator(\n",
    "        preprocessing_function=tf.keras.applications.mobilenet_v2.preprocess_input\n",
    "    ).flow_from_directory(\n",
    "        os.path.join(root_dir, 'validation'),\n",
    "        target_size=(128, 128),\n",
    "        batch_size=batch_size,\n",
    "        class_mode='binary'\n",
    "    )\n",
    "    \n",
    "    return train_data_generator, val_data_generator\n"
   ]
  },
  {
   "cell_type": "markdown",
   "metadata": {
    "papermill": {
     "duration": 0.036532,
     "end_time": "2020-10-26T14:21:07.379512",
     "exception": false,
     "start_time": "2020-10-26T14:21:07.342980",
     "status": "completed"
    },
    "tags": []
   },
   "source": [
    "# Training Script - Putting it Together"
   ]
  },
  {
   "cell_type": "code",
   "execution_count": 12,
   "metadata": {
    "execution": {
     "iopub.execute_input": "2020-10-26T14:21:07.490058Z",
     "iopub.status.busy": "2020-10-26T14:21:07.488416Z",
     "iopub.status.idle": "2020-10-26T14:21:07.496482Z",
     "shell.execute_reply": "2020-10-26T14:21:07.497286Z"
    },
    "papermill": {
     "duration": 0.06341,
     "end_time": "2020-10-26T14:21:07.497524",
     "exception": false,
     "start_time": "2020-10-26T14:21:07.434114",
     "status": "completed"
    },
    "tags": []
   },
   "outputs": [
    {
     "name": "stdout",
     "output_type": "stream",
     "text": [
      "Appending to train.py\n"
     ]
    }
   ],
   "source": [
    "%%writefile -a train.py\n",
    "\n",
    "if __name__ =='__main__':\n",
    "\n",
    "    parser = argparse.ArgumentParser()\n",
    "\n",
    "    # hyperparameters sent by the client are passed as command-line arguments to the script.\n",
    "    parser.add_argument('--epochs', type=int, default=3)\n",
    "    parser.add_argument('--batch_size', type=int, default=16)\n",
    "    parser.add_argument('--steps', type=int, default=int(5873/16))\n",
    "    parser.add_argument('--val_steps', type=int, default=(1476/16))\n",
    "\n",
    "    # input data and model directories\n",
    "    parser.add_argument('--model_dir', type=str)\n",
    "    parser.add_argument('--sm-model-dir', type=str, default=os.environ.get('SM_MODEL_DIR'))\n",
    "    parser.add_argument('--train', type=str, default=os.environ.get('SM_CHANNEL_TRAINING'))\n",
    "\n",
    "    args, _ = parser.parse_known_args()\n",
    "\n",
    "    local_output_dir = args.sm_model_dir\n",
    "    local_root_dir = args.train\n",
    "    batch_size = args.batch_size\n",
    "    \n",
    "    model = create_model()\n",
    "    train_gen, val_gen = create_data_generators(local_root_dir, batch_size)\n",
    "    \n",
    "    _ = model.fit(\n",
    "        train_gen,\n",
    "        epochs=args.epochs,\n",
    "        steps_per_epoch=args.steps,\n",
    "        validation_data=val_gen,\n",
    "        validation_steps=args.val_steps\n",
    "    )\n",
    "    \n",
    "    model.save(os.path.join(local_output_dir, 'model', '1'))\n",
    "    "
   ]
  },
  {
   "cell_type": "markdown",
   "metadata": {
    "papermill": {
     "duration": 0.042377,
     "end_time": "2020-10-26T14:21:07.586064",
     "exception": false,
     "start_time": "2020-10-26T14:21:07.543687",
     "status": "completed"
    },
    "tags": []
   },
   "source": [
    "# Upload Dataset to S3"
   ]
  },
  {
   "cell_type": "markdown",
   "metadata": {
    "papermill": {
     "duration": 0.047325,
     "end_time": "2020-10-26T14:21:07.678857",
     "exception": false,
     "start_time": "2020-10-26T14:21:07.631532",
     "status": "completed"
    },
    "tags": []
   },
   "source": [
    "** Now setup a bucket in 'S3' (for example='petcustom') and upload your dataset in cloud.** and excute the rest of the code."
   ]
  },
  {
   "cell_type": "code",
   "execution_count": 13,
   "metadata": {
    "execution": {
     "iopub.execute_input": "2020-10-26T14:21:07.802603Z",
     "iopub.status.busy": "2020-10-26T14:21:07.799384Z",
     "iopub.status.idle": "2020-10-26T14:21:08.158741Z",
     "shell.execute_reply": "2020-10-26T14:21:08.157954Z"
    },
    "papermill": {
     "duration": 0.432082,
     "end_time": "2020-10-26T14:21:08.158870",
     "exception": false,
     "start_time": "2020-10-26T14:21:07.726788",
     "status": "completed"
    },
    "tags": []
   },
   "outputs": [
    {
     "ename": "ValueError",
     "evalue": "Must setup local AWS configuration with a region supported by SageMaker.",
     "output_type": "error",
     "traceback": [
      "\u001b[0;31m---------------------------------------------------------------------------\u001b[0m",
      "\u001b[0;31mValueError\u001b[0m                                Traceback (most recent call last)",
      "\u001b[0;32m<ipython-input-13-27bbf45d6903>\u001b[0m in \u001b[0;36m<module>\u001b[0;34m\u001b[0m\n\u001b[0;32m----> 1\u001b[0;31m \u001b[0msagemaker_session\u001b[0m \u001b[0;34m=\u001b[0m \u001b[0msagemaker\u001b[0m\u001b[0;34m.\u001b[0m\u001b[0mSession\u001b[0m\u001b[0;34m(\u001b[0m\u001b[0;34m)\u001b[0m\u001b[0;34m\u001b[0m\u001b[0;34m\u001b[0m\u001b[0m\n\u001b[0m\u001b[1;32m      2\u001b[0m \u001b[0mrole\u001b[0m \u001b[0;34m=\u001b[0m \u001b[0msagemaker\u001b[0m\u001b[0;34m.\u001b[0m\u001b[0mget_execution_role\u001b[0m\u001b[0;34m(\u001b[0m\u001b[0;34m)\u001b[0m\u001b[0;34m\u001b[0m\u001b[0;34m\u001b[0m\u001b[0m\n\u001b[1;32m      3\u001b[0m \u001b[0mbucket_name\u001b[0m \u001b[0;34m=\u001b[0m \u001b[0;34m'petscustom'\u001b[0m\u001b[0;34m\u001b[0m\u001b[0;34m\u001b[0m\u001b[0m\n\u001b[1;32m      4\u001b[0m \u001b[0;34m\u001b[0m\u001b[0m\n\u001b[1;32m      5\u001b[0m \u001b[0mprint\u001b[0m\u001b[0;34m(\u001b[0m\u001b[0;34m'Uploading to S3..'\u001b[0m\u001b[0;34m)\u001b[0m\u001b[0;34m\u001b[0m\u001b[0;34m\u001b[0m\u001b[0m\n",
      "\u001b[0;32m/opt/conda/lib/python3.7/site-packages/sagemaker/session.py\u001b[0m in \u001b[0;36m__init__\u001b[0;34m(self, boto_session, sagemaker_client, sagemaker_runtime_client)\u001b[0m\n\u001b[1;32m     81\u001b[0m         \u001b[0mregion\u001b[0m \u001b[0;34m=\u001b[0m \u001b[0mself\u001b[0m\u001b[0;34m.\u001b[0m\u001b[0mboto_session\u001b[0m\u001b[0;34m.\u001b[0m\u001b[0mregion_name\u001b[0m\u001b[0;34m\u001b[0m\u001b[0;34m\u001b[0m\u001b[0m\n\u001b[1;32m     82\u001b[0m         \u001b[0;32mif\u001b[0m \u001b[0mregion\u001b[0m \u001b[0;32mis\u001b[0m \u001b[0;32mNone\u001b[0m\u001b[0;34m:\u001b[0m\u001b[0;34m\u001b[0m\u001b[0;34m\u001b[0m\u001b[0m\n\u001b[0;32m---> 83\u001b[0;31m             \u001b[0;32mraise\u001b[0m \u001b[0mValueError\u001b[0m\u001b[0;34m(\u001b[0m\u001b[0;34m'Must setup local AWS configuration with a region supported by SageMaker.'\u001b[0m\u001b[0;34m)\u001b[0m\u001b[0;34m\u001b[0m\u001b[0;34m\u001b[0m\u001b[0m\n\u001b[0m\u001b[1;32m     84\u001b[0m \u001b[0;34m\u001b[0m\u001b[0m\n\u001b[1;32m     85\u001b[0m         \u001b[0mself\u001b[0m\u001b[0;34m.\u001b[0m\u001b[0msagemaker_client\u001b[0m \u001b[0;34m=\u001b[0m \u001b[0msagemaker_client\u001b[0m \u001b[0;32mor\u001b[0m \u001b[0mself\u001b[0m\u001b[0;34m.\u001b[0m\u001b[0mboto_session\u001b[0m\u001b[0;34m.\u001b[0m\u001b[0mclient\u001b[0m\u001b[0;34m(\u001b[0m\u001b[0;34m'sagemaker'\u001b[0m\u001b[0;34m)\u001b[0m\u001b[0;34m\u001b[0m\u001b[0;34m\u001b[0m\u001b[0m\n",
      "\u001b[0;31mValueError\u001b[0m: Must setup local AWS configuration with a region supported by SageMaker."
     ]
    }
   ],
   "source": [
    "sagemaker_session = sagemaker.Session()\n",
    "role = sagemaker.get_execution_role()\n",
    "bucket_name = 'petscustom'\n",
    "\n",
    "print('Uploading to S3..')\n",
    "s3_data_path = sagemaker_session.upload_data(path=root_dir, bucket=bucket_name, key_prefix='data')\n",
    "\n",
    "print('Uploaded to', s3_data_path)"
   ]
  },
  {
   "cell_type": "markdown",
   "metadata": {
    "papermill": {
     "duration": 0.038133,
     "end_time": "2020-10-26T14:21:08.233773",
     "exception": false,
     "start_time": "2020-10-26T14:21:08.195640",
     "status": "completed"
    },
    "tags": []
   },
   "source": [
    "# Train with TensorFlow Estimator"
   ]
  },
  {
   "cell_type": "code",
   "execution_count": 14,
   "metadata": {
    "execution": {
     "iopub.execute_input": "2020-10-26T14:21:08.315549Z",
     "iopub.status.busy": "2020-10-26T14:21:08.314789Z",
     "iopub.status.idle": "2020-10-26T14:21:08.346928Z",
     "shell.execute_reply": "2020-10-26T14:21:08.347513Z"
    },
    "papermill": {
     "duration": 0.076407,
     "end_time": "2020-10-26T14:21:08.347681",
     "exception": false,
     "start_time": "2020-10-26T14:21:08.271274",
     "status": "completed"
    },
    "tags": []
   },
   "outputs": [
    {
     "ename": "NameError",
     "evalue": "name 'role' is not defined",
     "output_type": "error",
     "traceback": [
      "\u001b[0;31m---------------------------------------------------------------------------\u001b[0m",
      "\u001b[0;31mNameError\u001b[0m                                 Traceback (most recent call last)",
      "\u001b[0;32m<ipython-input-14-5d782495c820>\u001b[0m in \u001b[0;36m<module>\u001b[0;34m\u001b[0m\n\u001b[1;32m      3\u001b[0m pets_estimator = TensorFlow(\n\u001b[1;32m      4\u001b[0m     \u001b[0mentry_point\u001b[0m\u001b[0;34m=\u001b[0m\u001b[0;34m'train.py'\u001b[0m\u001b[0;34m,\u001b[0m\u001b[0;34m\u001b[0m\u001b[0;34m\u001b[0m\u001b[0m\n\u001b[0;32m----> 5\u001b[0;31m     \u001b[0mrole\u001b[0m\u001b[0;34m=\u001b[0m\u001b[0mrole\u001b[0m\u001b[0;34m,\u001b[0m\u001b[0;34m\u001b[0m\u001b[0;34m\u001b[0m\u001b[0m\n\u001b[0m\u001b[1;32m      6\u001b[0m     \u001b[0mtrain_instance_count\u001b[0m\u001b[0;34m=\u001b[0m\u001b[0;36m1\u001b[0m\u001b[0;34m,\u001b[0m\u001b[0;34m\u001b[0m\u001b[0;34m\u001b[0m\u001b[0m\n\u001b[1;32m      7\u001b[0m     \u001b[0mtrain_instance_type\u001b[0m\u001b[0;34m=\u001b[0m\u001b[0;34m'ml.p2.xlarge'\u001b[0m\u001b[0;34m,\u001b[0m\u001b[0;34m\u001b[0m\u001b[0;34m\u001b[0m\u001b[0m\n",
      "\u001b[0;31mNameError\u001b[0m: name 'role' is not defined"
     ]
    }
   ],
   "source": [
    "from sagemaker.tensorflow import TensorFlow\n",
    "\n",
    "pets_estimator = TensorFlow(\n",
    "    entry_point='train.py',\n",
    "    role=role,\n",
    "    train_instance_count=1,\n",
    "    train_instance_type='ml.p2.xlarge',\n",
    "    framework_version='2.1.0',\n",
    "    py_version='py3',\n",
    "    output_path='s3://petscustom/'\n",
    ")"
   ]
  },
  {
   "cell_type": "code",
   "execution_count": 15,
   "metadata": {
    "execution": {
     "iopub.execute_input": "2020-10-26T14:21:08.447181Z",
     "iopub.status.busy": "2020-10-26T14:21:08.446427Z",
     "iopub.status.idle": "2020-10-26T14:21:08.451464Z",
     "shell.execute_reply": "2020-10-26T14:21:08.450737Z"
    },
    "papermill": {
     "duration": 0.066941,
     "end_time": "2020-10-26T14:21:08.451588",
     "exception": false,
     "start_time": "2020-10-26T14:21:08.384647",
     "status": "completed"
    },
    "tags": []
   },
   "outputs": [
    {
     "ename": "NameError",
     "evalue": "name 'pets_estimator' is not defined",
     "output_type": "error",
     "traceback": [
      "\u001b[0;31m---------------------------------------------------------------------------\u001b[0m",
      "\u001b[0;31mNameError\u001b[0m                                 Traceback (most recent call last)",
      "\u001b[0;32m<ipython-input-15-70ac6a37d436>\u001b[0m in \u001b[0;36m<module>\u001b[0;34m\u001b[0m\n\u001b[0;32m----> 1\u001b[0;31m \u001b[0mpets_estimator\u001b[0m\u001b[0;34m.\u001b[0m\u001b[0mfit\u001b[0m\u001b[0;34m(\u001b[0m\u001b[0ms3_data_path\u001b[0m\u001b[0;34m)\u001b[0m\u001b[0;34m\u001b[0m\u001b[0;34m\u001b[0m\u001b[0m\n\u001b[0m",
      "\u001b[0;31mNameError\u001b[0m: name 'pets_estimator' is not defined"
     ]
    }
   ],
   "source": [
    "pets_estimator.fit(s3_data_path)"
   ]
  },
  {
   "cell_type": "markdown",
   "metadata": {
    "papermill": {
     "duration": 0.03691,
     "end_time": "2020-10-26T14:21:08.526150",
     "exception": false,
     "start_time": "2020-10-26T14:21:08.489240",
     "status": "completed"
    },
    "tags": []
   },
   "source": [
    "# Deploy TensorFlow Model"
   ]
  },
  {
   "cell_type": "code",
   "execution_count": 16,
   "metadata": {
    "execution": {
     "iopub.execute_input": "2020-10-26T14:21:08.629899Z",
     "iopub.status.busy": "2020-10-26T14:21:08.613785Z",
     "iopub.status.idle": "2020-10-26T14:21:08.634942Z",
     "shell.execute_reply": "2020-10-26T14:21:08.634179Z"
    },
    "papermill": {
     "duration": 0.070983,
     "end_time": "2020-10-26T14:21:08.635071",
     "exception": false,
     "start_time": "2020-10-26T14:21:08.564088",
     "status": "completed"
    },
    "tags": []
   },
   "outputs": [
    {
     "ename": "NameError",
     "evalue": "name 'pets_estimator' is not defined",
     "output_type": "error",
     "traceback": [
      "\u001b[0;31m---------------------------------------------------------------------------\u001b[0m",
      "\u001b[0;31mNameError\u001b[0m                                 Traceback (most recent call last)",
      "\u001b[0;32m<ipython-input-16-36a23fbc3e5b>\u001b[0m in \u001b[0;36m<module>\u001b[0;34m\u001b[0m\n\u001b[0;32m----> 1\u001b[0;31m \u001b[0mpets_predictor\u001b[0m \u001b[0;34m=\u001b[0m \u001b[0mpets_estimator\u001b[0m\u001b[0;34m.\u001b[0m\u001b[0mdeploy\u001b[0m\u001b[0;34m(\u001b[0m\u001b[0minitial_instance_count\u001b[0m\u001b[0;34m=\u001b[0m\u001b[0;36m1\u001b[0m\u001b[0;34m,\u001b[0m \u001b[0minstance_type\u001b[0m\u001b[0;34m=\u001b[0m\u001b[0;34m'ml.m4.xlarge'\u001b[0m\u001b[0;34m)\u001b[0m\u001b[0;34m\u001b[0m\u001b[0;34m\u001b[0m\u001b[0m\n\u001b[0m\u001b[1;32m      2\u001b[0m \u001b[0mprint\u001b[0m\u001b[0;34m(\u001b[0m\u001b[0;34m'\\nModel Deployed!'\u001b[0m\u001b[0;34m)\u001b[0m\u001b[0;34m\u001b[0m\u001b[0;34m\u001b[0m\u001b[0m\n",
      "\u001b[0;31mNameError\u001b[0m: name 'pets_estimator' is not defined"
     ]
    }
   ],
   "source": [
    "pets_predictor = pets_estimator.deploy(initial_instance_count=1, instance_type='ml.m4.xlarge')\n",
    "print('\\nModel Deployed!')"
   ]
  },
  {
   "cell_type": "markdown",
   "metadata": {
    "papermill": {
     "duration": 0.037853,
     "end_time": "2020-10-26T14:21:08.711553",
     "exception": false,
     "start_time": "2020-10-26T14:21:08.673700",
     "status": "completed"
    },
    "tags": []
   },
   "source": [
    "# Final Predictions"
   ]
  },
  {
   "cell_type": "code",
   "execution_count": 17,
   "metadata": {
    "execution": {
     "iopub.execute_input": "2020-10-26T14:21:08.795725Z",
     "iopub.status.busy": "2020-10-26T14:21:08.794754Z",
     "iopub.status.idle": "2020-10-26T14:21:08.805389Z",
     "shell.execute_reply": "2020-10-26T14:21:08.804541Z"
    },
    "papermill": {
     "duration": 0.055818,
     "end_time": "2020-10-26T14:21:08.805581",
     "exception": false,
     "start_time": "2020-10-26T14:21:08.749763",
     "status": "completed"
    },
    "tags": []
   },
   "outputs": [
    {
     "name": "stdout",
     "output_type": "stream",
     "text": [
      "custom_data/validation/cat/Bombay_110.jpg\n",
      "custom_data/validation/dog/american_bulldog_93.jpg\n"
     ]
    }
   ],
   "source": [
    "cat_dir = 'custom_data/validation/cat/'\n",
    "cat_images = [os.path.join(cat_dir, x) for x in os.listdir(cat_dir)]\n",
    "print(cat_images[0])\n",
    "\n",
    "dog_dir = 'custom_data/validation/dog/'\n",
    "dog_images = [os.path.join(dog_dir, x) for x in os.listdir(dog_dir)]\n",
    "print(dog_images[0])"
   ]
  },
  {
   "cell_type": "code",
   "execution_count": 18,
   "metadata": {
    "execution": {
     "iopub.execute_input": "2020-10-26T14:21:08.899405Z",
     "iopub.status.busy": "2020-10-26T14:21:08.898492Z",
     "iopub.status.idle": "2020-10-26T14:21:08.902878Z",
     "shell.execute_reply": "2020-10-26T14:21:08.902286Z"
    },
    "papermill": {
     "duration": 0.056337,
     "end_time": "2020-10-26T14:21:08.903017",
     "exception": false,
     "start_time": "2020-10-26T14:21:08.846680",
     "status": "completed"
    },
    "tags": []
   },
   "outputs": [],
   "source": [
    "def get_pred(image_path):\n",
    "    img = tf.keras.preprocessing.image.load_img(image_path, target_size=(128, 128))\n",
    "    img = tf.keras.preprocessing.image.img_to_array(img)\n",
    "    img = tf.keras.applications.mobilenet_v2.preprocess_input(img)\n",
    "    img = np.expand_dims(img, axis=0)\n",
    "\n",
    "    results = pets_predictor.predict(img)\n",
    "    return results"
   ]
  },
  {
   "cell_type": "code",
   "execution_count": 19,
   "metadata": {
    "execution": {
     "iopub.execute_input": "2020-10-26T14:21:08.990533Z",
     "iopub.status.busy": "2020-10-26T14:21:08.989553Z",
     "iopub.status.idle": "2020-10-26T14:21:09.076923Z",
     "shell.execute_reply": "2020-10-26T14:21:09.076154Z"
    },
    "papermill": {
     "duration": 0.134455,
     "end_time": "2020-10-26T14:21:09.077051",
     "exception": false,
     "start_time": "2020-10-26T14:21:08.942596",
     "status": "completed"
    },
    "tags": []
   },
   "outputs": [
    {
     "ename": "NameError",
     "evalue": "name 'pets_predictor' is not defined",
     "output_type": "error",
     "traceback": [
      "\u001b[0;31m---------------------------------------------------------------------------\u001b[0m",
      "\u001b[0;31mNameError\u001b[0m                                 Traceback (most recent call last)",
      "\u001b[0;32m<ipython-input-19-9b7aeb5ddfa2>\u001b[0m in \u001b[0;36m<module>\u001b[0;34m\u001b[0m\n\u001b[1;32m      1\u001b[0m \u001b[0mimage_path\u001b[0m \u001b[0;34m=\u001b[0m \u001b[0mcat_images\u001b[0m\u001b[0;34m[\u001b[0m\u001b[0;36m0\u001b[0m\u001b[0;34m]\u001b[0m\u001b[0;34m\u001b[0m\u001b[0;34m\u001b[0m\u001b[0m\n\u001b[0;32m----> 2\u001b[0;31m \u001b[0mresults\u001b[0m \u001b[0;34m=\u001b[0m \u001b[0mget_pred\u001b[0m\u001b[0;34m(\u001b[0m\u001b[0mimage_path\u001b[0m\u001b[0;34m)\u001b[0m\u001b[0;34m\u001b[0m\u001b[0;34m\u001b[0m\u001b[0m\n\u001b[0m\u001b[1;32m      3\u001b[0m \u001b[0;34m\u001b[0m\u001b[0m\n\u001b[1;32m      4\u001b[0m \u001b[0mprint\u001b[0m\u001b[0;34m(\u001b[0m\u001b[0mresults\u001b[0m\u001b[0;34m)\u001b[0m\u001b[0;34m\u001b[0m\u001b[0;34m\u001b[0m\u001b[0m\n",
      "\u001b[0;32m<ipython-input-18-85d71b16e82d>\u001b[0m in \u001b[0;36mget_pred\u001b[0;34m(image_path)\u001b[0m\n\u001b[1;32m      5\u001b[0m     \u001b[0mimg\u001b[0m \u001b[0;34m=\u001b[0m \u001b[0mnp\u001b[0m\u001b[0;34m.\u001b[0m\u001b[0mexpand_dims\u001b[0m\u001b[0;34m(\u001b[0m\u001b[0mimg\u001b[0m\u001b[0;34m,\u001b[0m \u001b[0maxis\u001b[0m\u001b[0;34m=\u001b[0m\u001b[0;36m0\u001b[0m\u001b[0;34m)\u001b[0m\u001b[0;34m\u001b[0m\u001b[0;34m\u001b[0m\u001b[0m\n\u001b[1;32m      6\u001b[0m \u001b[0;34m\u001b[0m\u001b[0m\n\u001b[0;32m----> 7\u001b[0;31m     \u001b[0mresults\u001b[0m \u001b[0;34m=\u001b[0m \u001b[0mpets_predictor\u001b[0m\u001b[0;34m.\u001b[0m\u001b[0mpredict\u001b[0m\u001b[0;34m(\u001b[0m\u001b[0mimg\u001b[0m\u001b[0;34m)\u001b[0m\u001b[0;34m\u001b[0m\u001b[0;34m\u001b[0m\u001b[0m\n\u001b[0m\u001b[1;32m      8\u001b[0m     \u001b[0;32mreturn\u001b[0m \u001b[0mresults\u001b[0m\u001b[0;34m\u001b[0m\u001b[0;34m\u001b[0m\u001b[0m\n",
      "\u001b[0;31mNameError\u001b[0m: name 'pets_predictor' is not defined"
     ]
    }
   ],
   "source": [
    "image_path = cat_images[0]\n",
    "results = get_pred(image_path)\n",
    "\n",
    "print(results)"
   ]
  },
  {
   "cell_type": "code",
   "execution_count": 20,
   "metadata": {
    "execution": {
     "iopub.execute_input": "2020-10-26T14:21:09.189341Z",
     "iopub.status.busy": "2020-10-26T14:21:09.187483Z",
     "iopub.status.idle": "2020-10-26T14:21:09.196197Z",
     "shell.execute_reply": "2020-10-26T14:21:09.195581Z"
    },
    "papermill": {
     "duration": 0.077766,
     "end_time": "2020-10-26T14:21:09.196365",
     "exception": false,
     "start_time": "2020-10-26T14:21:09.118599",
     "status": "completed"
    },
    "tags": []
   },
   "outputs": [
    {
     "ename": "NameError",
     "evalue": "name 'results' is not defined",
     "output_type": "error",
     "traceback": [
      "\u001b[0;31m---------------------------------------------------------------------------\u001b[0m",
      "\u001b[0;31mNameError\u001b[0m                                 Traceback (most recent call last)",
      "\u001b[0;32m<ipython-input-20-06a1089b4973>\u001b[0m in \u001b[0;36m<module>\u001b[0;34m\u001b[0m\n\u001b[0;32m----> 1\u001b[0;31m \u001b[0mclass_id\u001b[0m \u001b[0;34m=\u001b[0m \u001b[0mint\u001b[0m\u001b[0;34m(\u001b[0m\u001b[0mnp\u001b[0m\u001b[0;34m.\u001b[0m\u001b[0msqueeze\u001b[0m\u001b[0;34m(\u001b[0m\u001b[0mresults\u001b[0m\u001b[0;34m[\u001b[0m\u001b[0;34m'predictions'\u001b[0m\u001b[0;34m]\u001b[0m\u001b[0;34m)\u001b[0m \u001b[0;34m>\u001b[0m \u001b[0;36m0.5\u001b[0m\u001b[0;34m)\u001b[0m\u001b[0;34m\u001b[0m\u001b[0;34m\u001b[0m\u001b[0m\n\u001b[0m\u001b[1;32m      2\u001b[0m \u001b[0mprint\u001b[0m\u001b[0;34m(\u001b[0m\u001b[0;34m'Predicted class_id:'\u001b[0m\u001b[0;34m,\u001b[0m \u001b[0mclass_id\u001b[0m\u001b[0;34m,\u001b[0m \u001b[0;34m'with class_name:'\u001b[0m\u001b[0;34m,\u001b[0m \u001b[0mclasses\u001b[0m\u001b[0;34m[\u001b[0m\u001b[0mclass_id\u001b[0m\u001b[0;34m]\u001b[0m\u001b[0;34m)\u001b[0m\u001b[0;34m\u001b[0m\u001b[0;34m\u001b[0m\u001b[0m\n",
      "\u001b[0;31mNameError\u001b[0m: name 'results' is not defined"
     ]
    }
   ],
   "source": [
    "class_id = int(np.squeeze(results['predictions']) > 0.5)\n",
    "print('Predicted class_id:', class_id, 'with class_name:', classes[class_id])"
   ]
  },
  {
   "cell_type": "markdown",
   "metadata": {
    "papermill": {
     "duration": 0.041907,
     "end_time": "2020-10-26T14:21:09.280056",
     "exception": false,
     "start_time": "2020-10-26T14:21:09.238149",
     "status": "completed"
    },
    "tags": []
   },
   "source": [
    "# Delete Model Endpoint"
   ]
  },
  {
   "cell_type": "code",
   "execution_count": 21,
   "metadata": {
    "execution": {
     "iopub.execute_input": "2020-10-26T14:21:09.374873Z",
     "iopub.status.busy": "2020-10-26T14:21:09.368836Z",
     "iopub.status.idle": "2020-10-26T14:21:09.401422Z",
     "shell.execute_reply": "2020-10-26T14:21:09.400482Z"
    },
    "papermill": {
     "duration": 0.079164,
     "end_time": "2020-10-26T14:21:09.401577",
     "exception": false,
     "start_time": "2020-10-26T14:21:09.322413",
     "status": "completed"
    },
    "tags": []
   },
   "outputs": [
    {
     "ename": "NameError",
     "evalue": "name 'sagemaker_session' is not defined",
     "output_type": "error",
     "traceback": [
      "\u001b[0;31m---------------------------------------------------------------------------\u001b[0m",
      "\u001b[0;31mNameError\u001b[0m                                 Traceback (most recent call last)",
      "\u001b[0;32m<ipython-input-21-214c9e6149ed>\u001b[0m in \u001b[0;36m<module>\u001b[0;34m\u001b[0m\n\u001b[0;32m----> 1\u001b[0;31m \u001b[0msagemaker_session\u001b[0m\u001b[0;34m.\u001b[0m\u001b[0mdelete_endpoint\u001b[0m\u001b[0;34m(\u001b[0m\u001b[0mpets_predictor\u001b[0m\u001b[0;34m.\u001b[0m\u001b[0mendpoint\u001b[0m\u001b[0;34m)\u001b[0m\u001b[0;34m\u001b[0m\u001b[0;34m\u001b[0m\u001b[0m\n\u001b[0m",
      "\u001b[0;31mNameError\u001b[0m: name 'sagemaker_session' is not defined"
     ]
    }
   ],
   "source": [
    "sagemaker_session.delete_endpoint(pets_predictor.endpoint)"
   ]
  }
 ],
 "metadata": {
  "kernelspec": {
   "display_name": "Python 3",
   "language": "python",
   "name": "python3"
  },
  "language_info": {
   "codemirror_mode": {
    "name": "ipython",
    "version": 3
   },
   "file_extension": ".py",
   "mimetype": "text/x-python",
   "name": "python",
   "nbconvert_exporter": "python",
   "pygments_lexer": "ipython3",
   "version": "3.7.6"
  },
  "papermill": {
   "duration": 70.000086,
   "end_time": "2020-10-26T14:21:09.552638",
   "environment_variables": {},
   "exception": null,
   "input_path": "__notebook__.ipynb",
   "output_path": "__notebook__.ipynb",
   "parameters": {},
   "start_time": "2020-10-26T14:19:59.552552",
   "version": "2.1.0"
  }
 },
 "nbformat": 4,
 "nbformat_minor": 4
}
